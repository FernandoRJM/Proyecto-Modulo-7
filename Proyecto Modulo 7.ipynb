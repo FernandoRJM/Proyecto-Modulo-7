{
 "cells": [
  {
   "cell_type": "markdown",
   "metadata": {
    "id": "tP4QvuPIdTNJ"
   },
   "source": [
    "## **Bootcamp: Ciencia de Datos e Inteligencia Artificial**\n",
    "## **Proyecto del Módulo 7: Técnicas avanzadas para ciencia de datos y empleabilidad**\n",
    "\n",
    "Hola, ya es el último proyecto, has avanzado y aprendido mucho hasta acá. ¡Muchas felicidades!\n",
    "\n",
    "Es hora de poner en práctica todo lo que hemos aprendido a lo largo de nuestra travesía.\n",
    "\n",
    "Lee el proyecto y revisa con cuidado cada una de las instrucciones. Procura plasmar todo tu potencial para que lo concluyas de manera sobresaliente.\n",
    "\n",
    "¡Éxito!"
   ]
  },
  {
   "cell_type": "markdown",
   "metadata": {
    "id": "urHRQIXyd2qi"
   },
   "source": [
    "# Objetivos\n",
    "- Aplicar con éxito todos los conocimientos que has adquirido a lo largo del Bootcamp.\n",
    "- Consolidar las técnicas de limpieza, entrenamiento, graficación y ajuste a modelos de *Machine Learning*.\n",
    "- Generar una API que brinde predicciones como resultado a partir de datos enviados.\n"
   ]
  },
  {
   "cell_type": "markdown",
   "metadata": {
    "id": "0P7GcQKhexHj"
   },
   "source": [
    "# Proyecto\n",
    "\n",
    "1. Selecciona uno de los siguientes *datasets*:\n",
    "  - Imágenes de rayos X de pecho para detectar neumonía: https://www.kaggle.com/datasets/paultimothymooney/chest-xray-pneumonia\n",
    "  - *Reviews* de aplicaciones de la Google Play Store: https://www.kaggle.com/datasets/lava18/google-play-store-apps\n",
    "  - Estadísticas demográficas de los ganadores del premio Oscar de la Academia: https://www.kaggle.com/datasets/fmejia21/demographics-of-academy-awards-oscars-winners\n",
    "  - Aspiraciones profesionales de la generación Z: https://www.kaggle.com/datasets/kulturehire/understanding-career-aspirations-of-genz\n",
    "\n",
    "Cada uno representa un *dataset*, un problema y una forma diferente de abordarlo. Tu tarea es identificar las técnicas y modelos que podrías usar para tu proyecto.\n",
    "\n",
    "2. Debes hacer un análisis exploratorio y limpieza de los datos. Usa las ténicas que creas convenientes.\n",
    "\n",
    "3. Entrena el modelo de *Machine Learning*, procesamiento de lenguaje natural o red neuronal que creas adecuado.\n",
    "\n",
    "4. Genera por lo menos dos gráficas y dos métricas de rendimiento; explica las puntuaciones de rendimiento que amerite tu problema. Todas las gráficas de rendimiento que realices deben tener leyendas, colores y títulos personalizados por ti.\n",
    "\n",
    "  - Además, antes de subir el modelo a \"producción\", deberás realizar un proceso de ensambles (*ensemblings*) y de ajuste de hiperparámetros o *tuning* para intentar mejorar la precisión y disminuir la varianza de tu modelo.\n",
    "\n",
    "5. Construye una API REST en la que cualquier usuario pueda mandar datos y que esta misma devuelva la predicción del modelo que has hecho. La API debe estar en la nube, ya sea en un servicio como Netlify o Ngrok, para que pueda ser consultada desde internet.\n",
    "\n",
    "6. Genera una presentación del problema y del modelo de solución que planteas. Muestra gráficas, datos de rendimiento y explicaciones. Esta presentación debe estar enfocada a personas que no sepan mucho de ciencia de datos e inteligencia artificial.\n",
    "\n",
    "7. **Solamente se recibirán trabajos subidos a tu cuenta de GitHub con un README.md apropiado que explique tu proyecto**.\n",
    "\n",
    "## Criterios de evaluación\n",
    "\n",
    "| Actividad | Porcentaje | Observaciones | Punto parcial\n",
    "| -- | -- | -- | -- |\n",
    "| Actividad 1. Limpieza y EDA | 20 | Realiza todas las tareas necesarias para hacer el EDA y la limpieza correcta, dependiendo de la problemática. Debes hacer como mínimo el análisis de completitud, escalamiento (si aplica) y tokenización (si aplica). | Realizaste solo algunas tareas de exploración y limpieza y el modelo se muestra aún con oportunidad de completitud, escalamiento y/o mejora. |\n",
    "| Actividad 2. Entrenamiento del modelo | 20 | Elige el modelo y algoritmo adecuados para tu problema, entrénalo con los datos ya limpios y genera algunas predicciones de prueba. | No has realizado predicciones de prueba para tu modelo de ML y/o tu modelo muestra una precisión menor al 60 %. |\n",
    "| Actividad 3. Graficación y métricas | 20 | Genera por lo menos dos gráficas y dos muestras de métricas que permitan visualizar el rendimiento y precisión del modelo que construiste. Además, realizaste los procesos de *tuning* y ensambles adecuados para tu problema. | Las gráficas no tienen leyendas y colores customizados, solo muestras una gráfica o no realizaste el *tuning* de hiperparámetros.\n",
    "| Actividad 4. API REST | 20 | Generaste con éxito un *link* público en el que, por método POST, se puede mandar información y la API REST devuelve una predicción junto con el porcentaje de confianza de esta misma. | N/A\n",
    "| Actividad 5. Presentación | 20 | Genera una presentación en la que establezcas como mínimo: el problema, proceso de solución, metodologías usadas, gráficas de rendimiento, demostración del modelo y aprendizajes obtenidos. Debes redactarla con términos que pueda entender cualquier persona, no solo científicos de datos. | La presentación no expone con claridad o en términos coloquiales el proceso de creación del modelo, sus ventajas y muestras de rendimiento.\n",
    "\n",
    "**Mucho éxito en tu camino como Data Scientist.**"
   ]
  },
  {
   "cell_type": "markdown",
   "metadata": {
    "id": "u38EATs0AtJ2"
   },
   "source": [
    "# Parte 1: Seleccion de Dataset"
   ]
  },
  {
   "cell_type": "markdown",
   "metadata": {
    "id": "58dDbkZGAkhN"
   },
   "source": [
    "\\El dataset seleccionado es el de Estadísticas demográficas de los ganadores del premio Oscar de la Academia"
   ]
  },
  {
   "cell_type": "code",
   "execution_count": 1,
   "metadata": {
    "id": "HzZ7_XQ6CVh1"
   },
   "outputs": [],
   "source": [
    "import pandas as pd\n",
    "import numpy as np\n",
    "import matplotlib.pyplot as plt\n",
    "import seaborn as sns\n",
    "from sklearn.model_selection import train_test_split, cross_val_score, GridSearchCV\n",
    "from sklearn.preprocessing import LabelEncoder, StandardScaler, OneHotEncoder\n",
    "from sklearn.compose import ColumnTransformer\n",
    "from sklearn.pipeline import Pipeline\n",
    "from sklearn.metrics import accuracy_score, precision_score, recall_score, f1_score, roc_auc_score, confusion_matrix, roc_curve\n",
    "from sklearn.ensemble import RandomForestClassifier\n",
    "from sklearn.metrics import classification_report, accuracy_score, confusion_matrix\n",
    "from imblearn.over_sampling import SMOTE\n",
    "from collections import Counter"
   ]
  },
  {
   "cell_type": "code",
   "execution_count": 2,
   "metadata": {
    "id": "quB6LCn7ZKOb"
   },
   "outputs": [],
   "source": [
    "df = pd.read_csv(\"Oscars-demographics-DFE.csv\", encoding='latin-1')"
   ]
  },
  {
   "cell_type": "markdown",
   "metadata": {
    "id": "Y5PzZyqfAvpR"
   },
   "source": [
    "# Parte 2: Analisis exploratorio y limpieza de datos"
   ]
  },
  {
   "cell_type": "code",
   "execution_count": 3,
   "metadata": {
    "colab": {
     "base_uri": "https://localhost:8080/",
     "height": 429
    },
    "id": "6ENB0xG2AkDl",
    "outputId": "8a49d833-c60b-4193-adac-c6c9150525e6"
   },
   "outputs": [
    {
     "data": {
      "text/html": [
       "<div>\n",
       "<style scoped>\n",
       "    .dataframe tbody tr th:only-of-type {\n",
       "        vertical-align: middle;\n",
       "    }\n",
       "\n",
       "    .dataframe tbody tr th {\n",
       "        vertical-align: top;\n",
       "    }\n",
       "\n",
       "    .dataframe thead th {\n",
       "        text-align: right;\n",
       "    }\n",
       "</style>\n",
       "<table border=\"1\" class=\"dataframe\">\n",
       "  <thead>\n",
       "    <tr style=\"text-align: right;\">\n",
       "      <th></th>\n",
       "      <th>_unit_id</th>\n",
       "      <th>_golden</th>\n",
       "      <th>_unit_state</th>\n",
       "      <th>_trusted_judgments</th>\n",
       "      <th>_last_judgment_at</th>\n",
       "      <th>birthplace</th>\n",
       "      <th>birthplace:confidence</th>\n",
       "      <th>date_of_birth</th>\n",
       "      <th>date_of_birth:confidence</th>\n",
       "      <th>race_ethnicity</th>\n",
       "      <th>...</th>\n",
       "      <th>award</th>\n",
       "      <th>biourl</th>\n",
       "      <th>birthplace_gold</th>\n",
       "      <th>date_of_birth_gold</th>\n",
       "      <th>movie</th>\n",
       "      <th>person</th>\n",
       "      <th>race_ethnicity_gold</th>\n",
       "      <th>religion_gold</th>\n",
       "      <th>sexual_orientation_gold</th>\n",
       "      <th>year_of_award_gold</th>\n",
       "    </tr>\n",
       "  </thead>\n",
       "  <tbody>\n",
       "    <tr>\n",
       "      <th>0</th>\n",
       "      <td>670454353</td>\n",
       "      <td>False</td>\n",
       "      <td>finalized</td>\n",
       "      <td>3</td>\n",
       "      <td>2/10/15 3:45</td>\n",
       "      <td>Chisinau, Moldova</td>\n",
       "      <td>1.0</td>\n",
       "      <td>30-Sep-1895</td>\n",
       "      <td>1.0</td>\n",
       "      <td>White</td>\n",
       "      <td>...</td>\n",
       "      <td>Best Director</td>\n",
       "      <td>http://www.nndb.com/people/320/000043191/</td>\n",
       "      <td>NaN</td>\n",
       "      <td>NaN</td>\n",
       "      <td>Two Arabian Knights</td>\n",
       "      <td>Lewis Milestone</td>\n",
       "      <td>NaN</td>\n",
       "      <td>NaN</td>\n",
       "      <td>NaN</td>\n",
       "      <td>NaN</td>\n",
       "    </tr>\n",
       "    <tr>\n",
       "      <th>1</th>\n",
       "      <td>670454354</td>\n",
       "      <td>False</td>\n",
       "      <td>finalized</td>\n",
       "      <td>3</td>\n",
       "      <td>2/10/15 2:03</td>\n",
       "      <td>Glasgow, Scotland</td>\n",
       "      <td>1.0</td>\n",
       "      <td>2-Feb-1886</td>\n",
       "      <td>1.0</td>\n",
       "      <td>White</td>\n",
       "      <td>...</td>\n",
       "      <td>Best Director</td>\n",
       "      <td>http://www.nndb.com/people/626/000042500/</td>\n",
       "      <td>NaN</td>\n",
       "      <td>NaN</td>\n",
       "      <td>The Divine Lady</td>\n",
       "      <td>Frank Lloyd</td>\n",
       "      <td>NaN</td>\n",
       "      <td>NaN</td>\n",
       "      <td>NaN</td>\n",
       "      <td>NaN</td>\n",
       "    </tr>\n",
       "    <tr>\n",
       "      <th>2</th>\n",
       "      <td>670454355</td>\n",
       "      <td>False</td>\n",
       "      <td>finalized</td>\n",
       "      <td>3</td>\n",
       "      <td>2/10/15 2:05</td>\n",
       "      <td>Chisinau, Moldova</td>\n",
       "      <td>1.0</td>\n",
       "      <td>30-Sep-1895</td>\n",
       "      <td>1.0</td>\n",
       "      <td>White</td>\n",
       "      <td>...</td>\n",
       "      <td>Best Director</td>\n",
       "      <td>http://www.nndb.com/people/320/000043191/</td>\n",
       "      <td>NaN</td>\n",
       "      <td>NaN</td>\n",
       "      <td>All Quiet on the Western Front</td>\n",
       "      <td>Lewis Milestone</td>\n",
       "      <td>NaN</td>\n",
       "      <td>NaN</td>\n",
       "      <td>NaN</td>\n",
       "      <td>NaN</td>\n",
       "    </tr>\n",
       "    <tr>\n",
       "      <th>3</th>\n",
       "      <td>670454356</td>\n",
       "      <td>False</td>\n",
       "      <td>finalized</td>\n",
       "      <td>3</td>\n",
       "      <td>2/10/15 2:04</td>\n",
       "      <td>Chicago, Il</td>\n",
       "      <td>1.0</td>\n",
       "      <td>23-Feb-1899</td>\n",
       "      <td>1.0</td>\n",
       "      <td>White</td>\n",
       "      <td>...</td>\n",
       "      <td>Best Director</td>\n",
       "      <td>http://www.nndb.com/people/544/000041421/</td>\n",
       "      <td>NaN</td>\n",
       "      <td>NaN</td>\n",
       "      <td>Skippy</td>\n",
       "      <td>Norman Taurog</td>\n",
       "      <td>NaN</td>\n",
       "      <td>NaN</td>\n",
       "      <td>NaN</td>\n",
       "      <td>NaN</td>\n",
       "    </tr>\n",
       "    <tr>\n",
       "      <th>4</th>\n",
       "      <td>670454357</td>\n",
       "      <td>False</td>\n",
       "      <td>finalized</td>\n",
       "      <td>3</td>\n",
       "      <td>2/10/15 1:48</td>\n",
       "      <td>Salt Lake City, Ut</td>\n",
       "      <td>1.0</td>\n",
       "      <td>23-Apr-1894</td>\n",
       "      <td>1.0</td>\n",
       "      <td>White</td>\n",
       "      <td>...</td>\n",
       "      <td>Best Director</td>\n",
       "      <td>http://www.nndb.com/people/292/000044160/</td>\n",
       "      <td>NaN</td>\n",
       "      <td>NaN</td>\n",
       "      <td>Bad Girl</td>\n",
       "      <td>Frank Borzage</td>\n",
       "      <td>NaN</td>\n",
       "      <td>NaN</td>\n",
       "      <td>NaN</td>\n",
       "      <td>NaN</td>\n",
       "    </tr>\n",
       "  </tbody>\n",
       "</table>\n",
       "<p>5 rows × 27 columns</p>\n",
       "</div>"
      ],
      "text/plain": [
       "    _unit_id  _golden _unit_state  _trusted_judgments _last_judgment_at  \\\n",
       "0  670454353    False   finalized                   3      2/10/15 3:45   \n",
       "1  670454354    False   finalized                   3      2/10/15 2:03   \n",
       "2  670454355    False   finalized                   3      2/10/15 2:05   \n",
       "3  670454356    False   finalized                   3      2/10/15 2:04   \n",
       "4  670454357    False   finalized                   3      2/10/15 1:48   \n",
       "\n",
       "           birthplace  birthplace:confidence date_of_birth  \\\n",
       "0   Chisinau, Moldova                    1.0   30-Sep-1895   \n",
       "1   Glasgow, Scotland                    1.0    2-Feb-1886   \n",
       "2   Chisinau, Moldova                    1.0   30-Sep-1895   \n",
       "3         Chicago, Il                    1.0   23-Feb-1899   \n",
       "4  Salt Lake City, Ut                    1.0   23-Apr-1894   \n",
       "\n",
       "   date_of_birth:confidence race_ethnicity  ...          award  \\\n",
       "0                       1.0          White  ...  Best Director   \n",
       "1                       1.0          White  ...  Best Director   \n",
       "2                       1.0          White  ...  Best Director   \n",
       "3                       1.0          White  ...  Best Director   \n",
       "4                       1.0          White  ...  Best Director   \n",
       "\n",
       "                                      biourl  birthplace_gold  \\\n",
       "0  http://www.nndb.com/people/320/000043191/              NaN   \n",
       "1  http://www.nndb.com/people/626/000042500/              NaN   \n",
       "2  http://www.nndb.com/people/320/000043191/              NaN   \n",
       "3  http://www.nndb.com/people/544/000041421/              NaN   \n",
       "4  http://www.nndb.com/people/292/000044160/              NaN   \n",
       "\n",
       "  date_of_birth_gold                           movie           person  \\\n",
       "0                NaN             Two Arabian Knights  Lewis Milestone   \n",
       "1                NaN                 The Divine Lady      Frank Lloyd   \n",
       "2                NaN  All Quiet on the Western Front  Lewis Milestone   \n",
       "3                NaN                          Skippy    Norman Taurog   \n",
       "4                NaN                        Bad Girl    Frank Borzage   \n",
       "\n",
       "   race_ethnicity_gold religion_gold sexual_orientation_gold  \\\n",
       "0                  NaN           NaN                     NaN   \n",
       "1                  NaN           NaN                     NaN   \n",
       "2                  NaN           NaN                     NaN   \n",
       "3                  NaN           NaN                     NaN   \n",
       "4                  NaN           NaN                     NaN   \n",
       "\n",
       "  year_of_award_gold  \n",
       "0                NaN  \n",
       "1                NaN  \n",
       "2                NaN  \n",
       "3                NaN  \n",
       "4                NaN  \n",
       "\n",
       "[5 rows x 27 columns]"
      ]
     },
     "execution_count": 3,
     "metadata": {},
     "output_type": "execute_result"
    }
   ],
   "source": [
    "df.head()"
   ]
  },
  {
   "cell_type": "code",
   "execution_count": 4,
   "metadata": {
    "colab": {
     "base_uri": "https://localhost:8080/"
    },
    "id": "qyKotOQQAkRn",
    "outputId": "399963f0-8186-4fe6-c13a-4af22928eefd"
   },
   "outputs": [
    {
     "data": {
      "text/plain": [
       "(441, 27)"
      ]
     },
     "execution_count": 4,
     "metadata": {},
     "output_type": "execute_result"
    }
   ],
   "source": [
    "df.shape"
   ]
  },
  {
   "cell_type": "code",
   "execution_count": 5,
   "metadata": {
    "colab": {
     "base_uri": "https://localhost:8080/",
     "height": 931
    },
    "id": "IPDPEzu6AkOK",
    "outputId": "ea899ce1-85cd-4823-ab13-0b66736aa976"
   },
   "outputs": [
    {
     "data": {
      "text/plain": [
       "_unit_id                           0\n",
       "_golden                            0\n",
       "_unit_state                        0\n",
       "_trusted_judgments                 0\n",
       "_last_judgment_at                 25\n",
       "birthplace                         0\n",
       "birthplace:confidence              0\n",
       "date_of_birth                      0\n",
       "date_of_birth:confidence           0\n",
       "race_ethnicity                     0\n",
       "race_ethnicity:confidence          0\n",
       "religion                           0\n",
       "religion:confidence                0\n",
       "sexual_orientation                 0\n",
       "sexual_orientation:confidence      0\n",
       "year_of_award                      0\n",
       "year_of_award:confidence           0\n",
       "award                              0\n",
       "biourl                             0\n",
       "birthplace_gold                  432\n",
       "date_of_birth_gold               433\n",
       "movie                              0\n",
       "person                             0\n",
       "race_ethnicity_gold              439\n",
       "religion_gold                    431\n",
       "sexual_orientation_gold          438\n",
       "year_of_award_gold               430\n",
       "dtype: int64"
      ]
     },
     "execution_count": 5,
     "metadata": {},
     "output_type": "execute_result"
    }
   ],
   "source": [
    "# vemos valores nulos\n",
    "df.isnull().sum()"
   ]
  },
  {
   "cell_type": "markdown",
   "metadata": {
    "id": "jFnoY518dUhc"
   },
   "source": [
    "Se observa que hay columbaas que tienen un alto porcentaje de valores faltantes, por lo que se eliminaran.\n",
    "Se procede ademas de eliminar las columnas \"biourl\" y \"religion\" ya que en un análisis demográfico no son escenciales."
   ]
  },
  {
   "cell_type": "code",
   "execution_count": 6,
   "metadata": {
    "colab": {
     "base_uri": "https://localhost:8080/",
     "height": 478
    },
    "id": "MRtER7p_aBUZ",
    "outputId": "81dce759-955b-4e45-9fc9-f38b3ae5aa3d"
   },
   "outputs": [
    {
     "data": {
      "text/html": [
       "<div>\n",
       "<style scoped>\n",
       "    .dataframe tbody tr th:only-of-type {\n",
       "        vertical-align: middle;\n",
       "    }\n",
       "\n",
       "    .dataframe tbody tr th {\n",
       "        vertical-align: top;\n",
       "    }\n",
       "\n",
       "    .dataframe thead th {\n",
       "        text-align: right;\n",
       "    }\n",
       "</style>\n",
       "<table border=\"1\" class=\"dataframe\">\n",
       "  <thead>\n",
       "    <tr style=\"text-align: right;\">\n",
       "      <th></th>\n",
       "      <th>_unit_id</th>\n",
       "      <th>_trusted_judgments</th>\n",
       "      <th>birthplace:confidence</th>\n",
       "      <th>date_of_birth:confidence</th>\n",
       "      <th>race_ethnicity:confidence</th>\n",
       "      <th>religion:confidence</th>\n",
       "      <th>sexual_orientation:confidence</th>\n",
       "      <th>year_of_award</th>\n",
       "      <th>year_of_award:confidence</th>\n",
       "      <th>year_of_award_gold</th>\n",
       "    </tr>\n",
       "  </thead>\n",
       "  <tbody>\n",
       "    <tr>\n",
       "      <th>count</th>\n",
       "      <td>4.410000e+02</td>\n",
       "      <td>441.000000</td>\n",
       "      <td>441.000000</td>\n",
       "      <td>441.000000</td>\n",
       "      <td>441.000000</td>\n",
       "      <td>441.000000</td>\n",
       "      <td>441.000000</td>\n",
       "      <td>441.000000</td>\n",
       "      <td>441.000000</td>\n",
       "      <td>11.000000</td>\n",
       "    </tr>\n",
       "    <tr>\n",
       "      <th>mean</th>\n",
       "      <td>6.704825e+08</td>\n",
       "      <td>7.637188</td>\n",
       "      <td>0.995259</td>\n",
       "      <td>0.996607</td>\n",
       "      <td>0.999130</td>\n",
       "      <td>0.989373</td>\n",
       "      <td>0.992390</td>\n",
       "      <td>1973.165533</td>\n",
       "      <td>0.990082</td>\n",
       "      <td>1977.363636</td>\n",
       "    </tr>\n",
       "    <tr>\n",
       "      <th>std</th>\n",
       "      <td>1.139974e+05</td>\n",
       "      <td>19.015541</td>\n",
       "      <td>0.038917</td>\n",
       "      <td>0.032060</td>\n",
       "      <td>0.016438</td>\n",
       "      <td>0.065610</td>\n",
       "      <td>0.049458</td>\n",
       "      <td>24.030895</td>\n",
       "      <td>0.059177</td>\n",
       "      <td>21.592928</td>\n",
       "    </tr>\n",
       "    <tr>\n",
       "      <th>min</th>\n",
       "      <td>6.704544e+08</td>\n",
       "      <td>3.000000</td>\n",
       "      <td>0.657100</td>\n",
       "      <td>0.656200</td>\n",
       "      <td>0.657100</td>\n",
       "      <td>0.333300</td>\n",
       "      <td>0.657100</td>\n",
       "      <td>1927.000000</td>\n",
       "      <td>0.333300</td>\n",
       "      <td>1942.000000</td>\n",
       "    </tr>\n",
       "    <tr>\n",
       "      <th>25%</th>\n",
       "      <td>6.704545e+08</td>\n",
       "      <td>3.000000</td>\n",
       "      <td>1.000000</td>\n",
       "      <td>1.000000</td>\n",
       "      <td>1.000000</td>\n",
       "      <td>1.000000</td>\n",
       "      <td>1.000000</td>\n",
       "      <td>1953.000000</td>\n",
       "      <td>1.000000</td>\n",
       "      <td>1964.000000</td>\n",
       "    </tr>\n",
       "    <tr>\n",
       "      <th>50%</th>\n",
       "      <td>6.704546e+08</td>\n",
       "      <td>3.000000</td>\n",
       "      <td>1.000000</td>\n",
       "      <td>1.000000</td>\n",
       "      <td>1.000000</td>\n",
       "      <td>1.000000</td>\n",
       "      <td>1.000000</td>\n",
       "      <td>1973.000000</td>\n",
       "      <td>1.000000</td>\n",
       "      <td>1977.000000</td>\n",
       "    </tr>\n",
       "    <tr>\n",
       "      <th>75%</th>\n",
       "      <td>6.704547e+08</td>\n",
       "      <td>3.000000</td>\n",
       "      <td>1.000000</td>\n",
       "      <td>1.000000</td>\n",
       "      <td>1.000000</td>\n",
       "      <td>1.000000</td>\n",
       "      <td>1.000000</td>\n",
       "      <td>1994.000000</td>\n",
       "      <td>1.000000</td>\n",
       "      <td>1997.000000</td>\n",
       "    </tr>\n",
       "    <tr>\n",
       "      <th>max</th>\n",
       "      <td>6.709729e+08</td>\n",
       "      <td>95.000000</td>\n",
       "      <td>1.000000</td>\n",
       "      <td>1.000000</td>\n",
       "      <td>1.000000</td>\n",
       "      <td>1.000000</td>\n",
       "      <td>1.000000</td>\n",
       "      <td>2014.000000</td>\n",
       "      <td>1.000000</td>\n",
       "      <td>2006.000000</td>\n",
       "    </tr>\n",
       "  </tbody>\n",
       "</table>\n",
       "</div>"
      ],
      "text/plain": [
       "           _unit_id  _trusted_judgments  birthplace:confidence  \\\n",
       "count  4.410000e+02          441.000000             441.000000   \n",
       "mean   6.704825e+08            7.637188               0.995259   \n",
       "std    1.139974e+05           19.015541               0.038917   \n",
       "min    6.704544e+08            3.000000               0.657100   \n",
       "25%    6.704545e+08            3.000000               1.000000   \n",
       "50%    6.704546e+08            3.000000               1.000000   \n",
       "75%    6.704547e+08            3.000000               1.000000   \n",
       "max    6.709729e+08           95.000000               1.000000   \n",
       "\n",
       "       date_of_birth:confidence  race_ethnicity:confidence  \\\n",
       "count                441.000000                 441.000000   \n",
       "mean                   0.996607                   0.999130   \n",
       "std                    0.032060                   0.016438   \n",
       "min                    0.656200                   0.657100   \n",
       "25%                    1.000000                   1.000000   \n",
       "50%                    1.000000                   1.000000   \n",
       "75%                    1.000000                   1.000000   \n",
       "max                    1.000000                   1.000000   \n",
       "\n",
       "       religion:confidence  sexual_orientation:confidence  year_of_award  \\\n",
       "count           441.000000                     441.000000     441.000000   \n",
       "mean              0.989373                       0.992390    1973.165533   \n",
       "std               0.065610                       0.049458      24.030895   \n",
       "min               0.333300                       0.657100    1927.000000   \n",
       "25%               1.000000                       1.000000    1953.000000   \n",
       "50%               1.000000                       1.000000    1973.000000   \n",
       "75%               1.000000                       1.000000    1994.000000   \n",
       "max               1.000000                       1.000000    2014.000000   \n",
       "\n",
       "       year_of_award:confidence  year_of_award_gold  \n",
       "count                441.000000           11.000000  \n",
       "mean                   0.990082         1977.363636  \n",
       "std                    0.059177           21.592928  \n",
       "min                    0.333300         1942.000000  \n",
       "25%                    1.000000         1964.000000  \n",
       "50%                    1.000000         1977.000000  \n",
       "75%                    1.000000         1997.000000  \n",
       "max                    1.000000         2006.000000  "
      ]
     },
     "execution_count": 6,
     "metadata": {},
     "output_type": "execute_result"
    }
   ],
   "source": [
    "df.describe()"
   ]
  },
  {
   "cell_type": "code",
   "execution_count": 7,
   "metadata": {
    "colab": {
     "base_uri": "https://localhost:8080/"
    },
    "id": "DvWUqz1oaBRi",
    "outputId": "0c86f134-8c8d-4f48-d912-04b5722ec60f"
   },
   "outputs": [
    {
     "name": "stdout",
     "output_type": "stream",
     "text": [
      "<class 'pandas.core.frame.DataFrame'>\n",
      "RangeIndex: 441 entries, 0 to 440\n",
      "Data columns (total 27 columns):\n",
      " #   Column                         Non-Null Count  Dtype  \n",
      "---  ------                         --------------  -----  \n",
      " 0   _unit_id                       441 non-null    int64  \n",
      " 1   _golden                        441 non-null    bool   \n",
      " 2   _unit_state                    441 non-null    object \n",
      " 3   _trusted_judgments             441 non-null    int64  \n",
      " 4   _last_judgment_at              416 non-null    object \n",
      " 5   birthplace                     441 non-null    object \n",
      " 6   birthplace:confidence          441 non-null    float64\n",
      " 7   date_of_birth                  441 non-null    object \n",
      " 8   date_of_birth:confidence       441 non-null    float64\n",
      " 9   race_ethnicity                 441 non-null    object \n",
      " 10  race_ethnicity:confidence      441 non-null    float64\n",
      " 11  religion                       441 non-null    object \n",
      " 12  religion:confidence            441 non-null    float64\n",
      " 13  sexual_orientation             441 non-null    object \n",
      " 14  sexual_orientation:confidence  441 non-null    float64\n",
      " 15  year_of_award                  441 non-null    int64  \n",
      " 16  year_of_award:confidence       441 non-null    float64\n",
      " 17  award                          441 non-null    object \n",
      " 18  biourl                         441 non-null    object \n",
      " 19  birthplace_gold                9 non-null      object \n",
      " 20  date_of_birth_gold             8 non-null      object \n",
      " 21  movie                          441 non-null    object \n",
      " 22  person                         441 non-null    object \n",
      " 23  race_ethnicity_gold            2 non-null      object \n",
      " 24  religion_gold                  10 non-null     object \n",
      " 25  sexual_orientation_gold        3 non-null      object \n",
      " 26  year_of_award_gold             11 non-null     float64\n",
      "dtypes: bool(1), float64(7), int64(3), object(16)\n",
      "memory usage: 90.1+ KB\n"
     ]
    }
   ],
   "source": [
    "df.info()"
   ]
  },
  {
   "cell_type": "code",
   "execution_count": 8,
   "metadata": {
    "colab": {
     "base_uri": "https://localhost:8080/"
    },
    "id": "HdiMZ09KcWor",
    "outputId": "92b08ca5-3538-4043-dc4e-41986dd13d6f"
   },
   "outputs": [
    {
     "name": "stdout",
     "output_type": "stream",
     "text": [
      "                         Total Faltantes  Porcentaje\n",
      "race_ethnicity_gold                  439   99.546485\n",
      "sexual_orientation_gold              438   99.319728\n",
      "date_of_birth_gold                   433   98.185941\n",
      "birthplace_gold                      432   97.959184\n",
      "religion_gold                        431   97.732426\n",
      "year_of_award_gold                   430   97.505669\n",
      "_last_judgment_at                     25    5.668934\n"
     ]
    }
   ],
   "source": [
    "# Columnas NaN\n",
    "missing_data = df.isnull().sum()\n",
    "missing_percentage = (missing_data / len(df)) * 100\n",
    "missing_df = pd.DataFrame({'Total Faltantes': missing_data, 'Porcentaje': missing_percentage})\n",
    "# Mostramos solo las columnas con faltantes, ordenadas\n",
    "missing_df = missing_df[missing_df['Total Faltantes'] > 0].sort_values(by='Porcentaje', ascending=False)\n",
    "print(missing_df)"
   ]
  },
  {
   "cell_type": "markdown",
   "metadata": {
    "id": "UU2kxpeafnGl"
   },
   "source": [
    "Las columnas con el sufijo \"_gold\" tienen casi el 100% de faltantes."
   ]
  },
  {
   "cell_type": "markdown",
   "metadata": {
    "id": "adx-Z0Ihfv10"
   },
   "source": [
    "## Eliminación de columnas"
   ]
  },
  {
   "cell_type": "markdown",
   "metadata": {
    "id": "7JNY4O3hf5pU"
   },
   "source": [
    "### Columnas con fatos insuficientes, irrrelevantes o redundantes (columnas \"confidence\")"
   ]
  },
  {
   "cell_type": "code",
   "execution_count": 8,
   "metadata": {
    "id": "I7QF9Y1RcLyb"
   },
   "outputs": [
    {
     "data": {
      "text/plain": [
       "_unit_id                         0\n",
       "_golden                          0\n",
       "_unit_state                      0\n",
       "_trusted_judgments               0\n",
       "_last_judgment_at                0\n",
       "birthplace                       0\n",
       "birthplace:confidence            0\n",
       "date_of_birth                    0\n",
       "date_of_birth:confidence         0\n",
       "race_ethnicity                   0\n",
       "race_ethnicity:confidence        0\n",
       "religion                         0\n",
       "religion:confidence              0\n",
       "sexual_orientation               0\n",
       "sexual_orientation:confidence    0\n",
       "year_of_award                    0\n",
       "year_of_award:confidence         0\n",
       "award                            0\n",
       "biourl                           0\n",
       "birthplace_gold                  0\n",
       "date_of_birth_gold               0\n",
       "movie                            0\n",
       "person                           0\n",
       "race_ethnicity_gold              0\n",
       "religion_gold                    0\n",
       "sexual_orientation_gold          0\n",
       "year_of_award_gold               0\n",
       "dtype: int64"
      ]
     },
     "execution_count": 8,
     "metadata": {},
     "output_type": "execute_result"
    }
   ],
   "source": [
    "df = df.dropna()\n",
    "df.isnull().sum()\n"
   ]
  },
  {
   "cell_type": "code",
   "execution_count": 10,
   "metadata": {},
   "outputs": [
    {
     "name": "stdout",
     "output_type": "stream",
     "text": [
      "<class 'pandas.core.frame.DataFrame'>\n",
      "RangeIndex: 441 entries, 0 to 440\n",
      "Data columns (total 21 columns):\n",
      " #   Column                         Non-Null Count  Dtype  \n",
      "---  ------                         --------------  -----  \n",
      " 0   _unit_id                       441 non-null    int64  \n",
      " 1   _golden                        441 non-null    bool   \n",
      " 2   _unit_state                    441 non-null    object \n",
      " 3   _trusted_judgments             441 non-null    int64  \n",
      " 4   _last_judgment_at              416 non-null    object \n",
      " 5   birthplace                     441 non-null    object \n",
      " 6   birthplace:confidence          441 non-null    float64\n",
      " 7   date_of_birth                  441 non-null    object \n",
      " 8   date_of_birth:confidence       441 non-null    float64\n",
      " 9   race_ethnicity                 441 non-null    object \n",
      " 10  race_ethnicity:confidence      441 non-null    float64\n",
      " 11  religion                       441 non-null    object \n",
      " 12  religion:confidence            441 non-null    float64\n",
      " 13  sexual_orientation             441 non-null    object \n",
      " 14  sexual_orientation:confidence  441 non-null    float64\n",
      " 15  year_of_award                  441 non-null    int64  \n",
      " 16  year_of_award:confidence       441 non-null    float64\n",
      " 17  award                          441 non-null    object \n",
      " 18  biourl                         441 non-null    object \n",
      " 19  movie                          441 non-null    object \n",
      " 20  person                         441 non-null    object \n",
      "dtypes: bool(1), float64(6), int64(3), object(11)\n",
      "memory usage: 69.5+ KB\n"
     ]
    }
   ],
   "source": [
    "df = df.drop(columns=[\n",
    "    \"birthplace_gold\",\n",
    "    \"date_of_birth_gold\",\n",
    "    \"race_ethnicity_gold\",\n",
    "    \"religion_gold\",\n",
    "    \"sexual_orientation_gold\",\n",
    "    \"year_of_award_gold\"\n",
    "])\n",
    "df.info()"
   ]
  },
  {
   "cell_type": "code",
   "execution_count": 12,
   "metadata": {},
   "outputs": [
    {
     "data": {
      "text/plain": [
       "_last_judgment_at\n",
       "2/10/15 2:05    28\n",
       "2/10/15 2:04    28\n",
       "2/10/15 1:59    24\n",
       "2/10/15 1:51    20\n",
       "2/10/15 2:03    20\n",
       "2/10/15 2:00    16\n",
       "2/10/15 1:55    12\n",
       "2/10/15 2:02    12\n",
       "2/10/15 2:07    12\n",
       "2/10/15 3:50    12\n",
       "2/10/15 2:18    12\n",
       "2/10/15 1:46     8\n",
       "2/10/15 2:01     8\n",
       "2/10/15 2:15     8\n",
       "2/10/15 2:12     8\n",
       "2/10/15 2:10     8\n",
       "2/10/15 4:02     8\n",
       "2/10/15 4:07     8\n",
       "2/10/15 2:14     8\n",
       "2/10/15 2:11     8\n",
       "2/10/15 4:08     8\n",
       "2/10/15 2:08     8\n",
       "2/10/15 1:57     8\n",
       "2/10/15 1:52     8\n",
       "2/10/15 2:06     8\n",
       "2/10/15 1:56     8\n",
       "2/10/15 1:49     8\n",
       "2/10/15 1:53     8\n",
       "2/10/15 2:29     4\n",
       "2/10/15 3:45     4\n",
       "2/10/15 3:57     4\n",
       "2/10/15 1:48     4\n",
       "2/10/15 1:47     4\n",
       "2/10/15 3:48     4\n",
       "2/10/15 1:43     4\n",
       "2/10/15 2:13     4\n",
       "2/10/15 3:56     4\n",
       "2/10/15 3:53     4\n",
       "2/10/15 3:51     4\n",
       "2/10/15 3:55     4\n",
       "2/10/15 2:19     4\n",
       "2/10/15 2:41     4\n",
       "2/10/15 1:58     4\n",
       "2/10/15 2:09     4\n",
       "2/10/15 4:06     4\n",
       "2/10/15 4:14     4\n",
       "2/10/15 3:58     4\n",
       "2/10/15 2:16     4\n",
       "2/10/15 4:21     4\n",
       "Name: count, dtype: int64"
      ]
     },
     "execution_count": 12,
     "metadata": {},
     "output_type": "execute_result"
    }
   ],
   "source": [
    "df[\"_last_judgment_at\"].value_counts()"
   ]
  },
  {
   "cell_type": "code",
   "execution_count": 13,
   "metadata": {},
   "outputs": [
    {
     "name": "stdout",
     "output_type": "stream",
     "text": [
      "<class 'pandas.core.frame.DataFrame'>\n",
      "RangeIndex: 441 entries, 0 to 440\n",
      "Data columns (total 20 columns):\n",
      " #   Column                         Non-Null Count  Dtype  \n",
      "---  ------                         --------------  -----  \n",
      " 0   _unit_id                       441 non-null    int64  \n",
      " 1   _golden                        441 non-null    bool   \n",
      " 2   _unit_state                    441 non-null    object \n",
      " 3   _trusted_judgments             441 non-null    int64  \n",
      " 4   birthplace                     441 non-null    object \n",
      " 5   birthplace:confidence          441 non-null    float64\n",
      " 6   date_of_birth                  441 non-null    object \n",
      " 7   date_of_birth:confidence       441 non-null    float64\n",
      " 8   race_ethnicity                 441 non-null    object \n",
      " 9   race_ethnicity:confidence      441 non-null    float64\n",
      " 10  religion                       441 non-null    object \n",
      " 11  religion:confidence            441 non-null    float64\n",
      " 12  sexual_orientation             441 non-null    object \n",
      " 13  sexual_orientation:confidence  441 non-null    float64\n",
      " 14  year_of_award                  441 non-null    int64  \n",
      " 15  year_of_award:confidence       441 non-null    float64\n",
      " 16  award                          441 non-null    object \n",
      " 17  biourl                         441 non-null    object \n",
      " 18  movie                          441 non-null    object \n",
      " 19  person                         441 non-null    object \n",
      "dtypes: bool(1), float64(6), int64(3), object(10)\n",
      "memory usage: 66.0+ KB\n"
     ]
    }
   ],
   "source": [
    "df = df.drop(columns=[\"_last_judgment_at\"])\n",
    "df.info()"
   ]
  },
  {
   "cell_type": "markdown",
   "metadata": {
    "id": "G1_1CND-gLNd"
   },
   "source": [
    "### Clasificación"
   ]
  },
  {
   "cell_type": "code",
   "execution_count": 15,
   "metadata": {
    "id": "G8DLpecAgQ-9"
   },
   "outputs": [
    {
     "data": {
      "text/plain": [
       "award\n",
       "Best Actress               95\n",
       "Best Director              91\n",
       "Best Actor                 88\n",
       "Best Supporting Actress    85\n",
       "Best Supporting Actor      82\n",
       "Name: count, dtype: int64"
      ]
     },
     "execution_count": 15,
     "metadata": {},
     "output_type": "execute_result"
    }
   ],
   "source": [
    "df[\"award\"].value_counts()"
   ]
  },
  {
   "cell_type": "code",
   "execution_count": 18,
   "metadata": {},
   "outputs": [
    {
     "name": "stdout",
     "output_type": "stream",
     "text": [
      "<class 'pandas.core.frame.DataFrame'>\n",
      "RangeIndex: 441 entries, 0 to 440\n",
      "Data columns (total 20 columns):\n",
      " #   Column                         Non-Null Count  Dtype  \n",
      "---  ------                         --------------  -----  \n",
      " 0   _unit_id                       441 non-null    int64  \n",
      " 1   _golden                        441 non-null    bool   \n",
      " 2   _unit_state                    441 non-null    int64  \n",
      " 3   _trusted_judgments             441 non-null    int64  \n",
      " 4   birthplace                     441 non-null    int64  \n",
      " 5   birthplace:confidence          441 non-null    float64\n",
      " 6   date_of_birth                  441 non-null    int64  \n",
      " 7   date_of_birth:confidence       441 non-null    float64\n",
      " 8   race_ethnicity                 441 non-null    int64  \n",
      " 9   race_ethnicity:confidence      441 non-null    float64\n",
      " 10  religion                       441 non-null    int64  \n",
      " 11  religion:confidence            441 non-null    float64\n",
      " 12  sexual_orientation             441 non-null    int64  \n",
      " 13  sexual_orientation:confidence  441 non-null    float64\n",
      " 14  year_of_award                  441 non-null    int64  \n",
      " 15  year_of_award:confidence       441 non-null    float64\n",
      " 16  award                          441 non-null    int64  \n",
      " 17  biourl                         441 non-null    int64  \n",
      " 18  movie                          441 non-null    int64  \n",
      " 19  person                         441 non-null    int64  \n",
      "dtypes: bool(1), float64(6), int64(13)\n",
      "memory usage: 66.0 KB\n"
     ]
    }
   ],
   "source": [
    "# Se crea instancia del codificador\n",
    "le = LabelEncoder()\n",
    "\n",
    "for col in df.select_dtypes(include=\"object\").columns:\n",
    "    df[col] = le.fit_transform(df[col])\n",
    "df.info()"
   ]
  },
  {
   "cell_type": "markdown",
   "metadata": {
    "id": "XgK8w9P_gaHF"
   },
   "source": [
    "## Modelo de clasificación"
   ]
  },
  {
   "cell_type": "markdown",
   "metadata": {
    "id": "xmQhl83VgjvO"
   },
   "source": [
    "## Visualización"
   ]
  },
  {
   "cell_type": "code",
   "execution_count": 14,
   "metadata": {
    "colab": {
     "base_uri": "https://localhost:8080/",
     "height": 52
    },
    "id": "sSHstvUbg8Fc",
    "outputId": "102dbbf8-4965-4391-81f6-f2c23d6df865"
   },
   "outputs": [
    {
     "data": {
      "text/plain": [
       "<Figure size 1500x500 with 0 Axes>"
      ]
     },
     "execution_count": 14,
     "metadata": {},
     "output_type": "execute_result"
    },
    {
     "data": {
      "text/plain": [
       "<Figure size 1500x500 with 0 Axes>"
      ]
     },
     "metadata": {},
     "output_type": "display_data"
    }
   ],
   "source": [
    "sns.set_style(\"whitegrid\")\n",
    "\n",
    "# Configurar el tamaño de la figura para una mejor visualización\n",
    "plt.figure(figsize=(15, 5))"
   ]
  },
  {
   "cell_type": "code",
   "execution_count": 15,
   "metadata": {
    "colab": {
     "base_uri": "https://localhost:8080/",
     "height": 489
    },
    "id": "Ai8yfsMkgdc0",
    "outputId": "ad053a57-1809-4578-e635-29b63c1a3fe4"
   },
   "outputs": [
    {
     "data": {
      "text/plain": [
       "Text(0, 0.5, 'Frecuencia')"
      ]
     },
     "execution_count": 15,
     "metadata": {},
     "output_type": "execute_result"
    },
    {
     "data": {
      "image/png": "[encoded data removed]",
      "text/plain": [
       "<Figure size 640x480 with 1 Axes>"
      ]
     },
     "metadata": {},
     "output_type": "display_data"
    }
   ],
   "source": [
    "# GRÁFICO 1: Distribución de Edad\n",
    "plt.subplot(1, 3, 1)\n",
    "sns.histplot(df['age_at_award'], bins=15, kde=True, color='teal')\n",
    "plt.title('1. Distribución de Edad al Recibir el Oscar', fontsize=12)\n",
    "plt.xlabel('Edad (Años)')\n",
    "plt.ylabel('Frecuencia')"
   ]
  },
  {
   "cell_type": "code",
   "execution_count": 16,
   "metadata": {
    "colab": {
     "base_uri": "https://localhost:8080/",
     "height": 596
    },
    "id": "8NjYxmptgdaG",
    "outputId": "b06a109d-c086-4964-e29c-e89fb639cb46"
   },
   "outputs": [
    {
     "name": "stderr",
     "output_type": "stream",
     "text": [
      "/tmp/ipython-input-3258143785.py:5: FutureWarning: \n",
      "\n",
      "Passing `palette` without assigning `hue` is deprecated and will be removed in v0.14.0. Assign the `y` variable to `hue` and set `legend=False` for the same effect.\n",
      "\n",
      "  sns.barplot(x=ethnicity_counts.values, y=ethnicity_counts.index, palette='viridis')\n"
     ]
    },
    {
     "data": {
      "text/plain": [
       "Text(0, 0.5, 'Raza/Etnia')"
      ]
     },
     "execution_count": 16,
     "metadata": {},
     "output_type": "execute_result"
    },
    {
     "data": {
      "image/png": "[encoded data removed]",
      "text/plain": [
       "<Figure size 640x480 with 1 Axes>"
      ]
     },
     "metadata": {},
     "output_type": "display_data"
    }
   ],
   "source": [
    "# GRÁFICO 2: Distribución de Raza/Etnia\n",
    "plt.subplot(1, 3, 2)\n",
    "# Usar value_counts para ordenar de mayor a menor\n",
    "ethnicity_counts = df['race_ethnicity'].value_counts()\n",
    "sns.barplot(x=ethnicity_counts.values, y=ethnicity_counts.index, palette='viridis')\n",
    "plt.title('2. Conteo por Raza/Etnia', fontsize=12)\n",
    "plt.xlabel('Conteo')\n",
    "plt.ylabel('Raza/Etnia')"
   ]
  },
  {
   "cell_type": "code",
   "execution_count": 17,
   "metadata": {
    "colab": {
     "base_uri": "https://localhost:8080/",
     "height": 594
    },
    "id": "dCgL6FGPg34d",
    "outputId": "8d0abf24-a2f4-473a-b3e9-1188d85ff363"
   },
   "outputs": [
    {
     "name": "stderr",
     "output_type": "stream",
     "text": [
      "/tmp/ipython-input-3786111884.py:3: FutureWarning: \n",
      "\n",
      "Passing `palette` without assigning `hue` is deprecated and will be removed in v0.14.0. Assign the `x` variable to `hue` and set `legend=False` for the same effect.\n",
      "\n",
      "  sns.countplot(x='sexual_orientation', data=df, order=df['sexual_orientation'].value_counts().index, palette='magma')\n"
     ]
    },
    {
     "data": {
      "image/png": "[encoded data removed]",
      "text/plain": [
       "<Figure size 640x480 with 1 Axes>"
      ]
     },
     "metadata": {},
     "output_type": "display_data"
    }
   ],
   "source": [
    "# GRÁFICO 3: Distribución de Orientación Sexual\n",
    "plt.subplot(1, 3, 3)\n",
    "sns.countplot(x='sexual_orientation', data=df, order=df['sexual_orientation'].value_counts().index, palette='magma')\n",
    "plt.title('3. Conteo por Orientación Sexual', fontsize=12)\n",
    "plt.xlabel('Orientación Sexual')\n",
    "plt.ylabel('Conteo')\n",
    "\n",
    "plt.tight_layout()\n",
    "plt.show()"
   ]
  },
  {
   "cell_type": "markdown",
   "metadata": {
    "id": "lCI9JjZDFJov"
   },
   "source": [
    "# Parte 3: Entrenando el Modelo"
   ]
  },
  {
   "cell_type": "markdown",
   "metadata": {
    "id": "NqMK8kt2iF6V"
   },
   "source": [
    "## Preparación de datos"
   ]
  },
  {
   "cell_type": "code",
   "execution_count": 18,
   "metadata": {
    "id": "IzmSSxGUhS7v"
   },
   "outputs": [],
   "source": [
    "# Seleccionamos características (features) y el objetivo (target) Usando las características demográficas y la edad para predecir el premio.\n",
    "features = ['race_ethnicity', 'religion', 'sexual_orientation', 'birthplace', 'age_at_award']\n",
    "target = 'award'\n",
    "\n",
    "# Eliminar filas con NaNs restantes en las características seleccionadas (p. ej., birthplace)\n",
    "# Ya limpiamos las principales, pero es una buena práctica antes del One-Hot Encoding\n",
    "df_model = df.dropna(subset=features).copy()"
   ]
  },
  {
   "cell_type": "code",
   "execution_count": 19,
   "metadata": {
    "id": "H9UwWcWzhS5X"
   },
   "outputs": [],
   "source": [
    "# Codificamos One-Hot de variables categóricas\n",
    "df_encoded = pd.get_dummies(df_model, columns=['race_ethnicity', 'religion', 'sexual_orientation', 'birthplace'], drop_first=True)\n"
   ]
  },
  {
   "cell_type": "code",
   "execution_count": 28,
   "metadata": {
    "id": "d_vklz58hS20"
   },
   "outputs": [],
   "source": [
    "# Seleccionamos solo las columnas que serán usadas como features antes del encoding\n",
    "features_for_encoding = ['race_ethnicity', 'religion', 'sexual_orientation', 'birthplace']\n",
    "features_numeric = ['age_at_award']\n",
    "all_features_selected = features_for_encoding + features_numeric\n",
    "\n",
    "# Create a temporary DataFrame with only the selected features\n",
    "df_selected_features = df_model[all_features_selected].copy()\n",
    "\n",
    "# Codificamos One-Hot de variables categóricas en el DataFrame reducido\n",
    "df_encoded = pd.get_dummies(df_selected_features, columns=features_for_encoding, drop_first=True)\n",
    "\n",
    "# Definimos las matrices de características (X) y objetivo (y)\n",
    "X = df_encoded\n",
    "y = df_model[target]"
   ]
  },
  {
   "cell_type": "code",
   "execution_count": 29,
   "metadata": {
    "id": "MO6-BZAthS0d"
   },
   "outputs": [],
   "source": [
    "# Dividimos los datos en conjuntos de entrenamiento y prueba\n",
    "X_train, X_test, y_train, y_test = train_test_split(X, y, test_size=0.2, random_state=42, stratify=y)"
   ]
  },
  {
   "cell_type": "markdown",
   "metadata": {
    "id": "SExrYvi_iIZu"
   },
   "source": [
    "## Entrenamiento del modelo"
   ]
  },
  {
   "cell_type": "code",
   "execution_count": 30,
   "metadata": {
    "id": "UAH8LE7OhSx1"
   },
   "outputs": [],
   "source": [
    "model = RandomForestClassifier(n_estimators=100, random_state=42, class_weight='balanced')"
   ]
  },
  {
   "cell_type": "markdown",
   "metadata": {
    "id": "Z-uOqrZjlmcX"
   },
   "source": [
    "El modelo utilizado es \"Random Forest\", esto porque es un algoritmo que mas se acomoda para un problema de clasificación multiclase, esto al ser un modelo de ensamble que se basa en árboles de decisión y maneja bien las variables categoricas codificadas."
   ]
  },
  {
   "cell_type": "markdown",
   "metadata": {
    "id": "-hVhTt4RitvV"
   },
   "source": [
    "Se usa class_weight='balanced' para intentar compensar el desequilibrio de clases en 'award'\n"
   ]
  },
  {
   "cell_type": "code",
   "execution_count": 32,
   "metadata": {
    "colab": {
     "base_uri": "https://localhost:8080/"
    },
    "id": "6nsLhFWyixqO",
    "outputId": "bfe33bb4-0332-499e-f259-c577899de2a1"
   },
   "outputs": [
    {
     "name": "stdout",
     "output_type": "stream",
     "text": [
      "Modelo entrenado\n"
     ]
    }
   ],
   "source": [
    "model.fit(X_train, y_train)\n",
    "print(\"Modelo entrenado\")"
   ]
  },
  {
   "cell_type": "code",
   "execution_count": 33,
   "metadata": {
    "id": "9YXC2i-xixnX"
   },
   "outputs": [],
   "source": [
    "# 3. Realizar predicciones sobre el conjunto de prueba\n",
    "y_pred = model.predict(X_test)"
   ]
  },
  {
   "cell_type": "markdown",
   "metadata": {
    "id": "4lLfjQqEjjTX"
   },
   "source": [
    "## Evaluación del modelo"
   ]
  },
  {
   "cell_type": "code",
   "execution_count": 34,
   "metadata": {
    "colab": {
     "base_uri": "https://localhost:8080/"
    },
    "id": "33lKBzlRjlOe",
    "outputId": "90442d9d-c454-4e2a-bff8-21b0ffdb9893"
   },
   "outputs": [
    {
     "name": "stdout",
     "output_type": "stream",
     "text": [
      "\n",
      "--- Evaluación del Modelo ---\n",
      "Precisión (Accuracy) en el conjunto de prueba: 0.3125\n"
     ]
    }
   ],
   "source": [
    "accuracy = accuracy_score(y_test, y_pred)\n",
    "print(f\"\\n--- Evaluación del Modelo ---\")\n",
    "print(f\"Precisión (Accuracy) en el conjunto de prueba: {accuracy:.4f}\")"
   ]
  },
  {
   "cell_type": "code",
   "execution_count": 35,
   "metadata": {
    "colab": {
     "base_uri": "https://localhost:8080/"
    },
    "id": "pmXo4yMvjlLx",
    "outputId": "f85643b4-81c6-4ea3-d9c3-0919482b95fb"
   },
   "outputs": [
    {
     "name": "stdout",
     "output_type": "stream",
     "text": [
      "\n",
      "Informe de Clasificación:\n",
      "                         precision    recall  f1-score   support\n",
      "\n",
      "             Best Actor       0.50      0.75      0.60         4\n",
      "           Best Actress       1.00      1.00      1.00         1\n",
      "          Best Director       0.00      0.00      0.00         5\n",
      "  Best Supporting Actor       0.00      0.00      0.00         3\n",
      "Best Supporting Actress       0.17      0.33      0.22         3\n",
      "\n",
      "               accuracy                           0.31        16\n",
      "              macro avg       0.33      0.42      0.36        16\n",
      "           weighted avg       0.22      0.31      0.25        16\n",
      "\n"
     ]
    }
   ],
   "source": [
    "# Informe de Clasificación (incluye Precision, Recall, F1-Score por clase)\n",
    "print(\"\\nInforme de Clasificación:\")\n",
    "print(classification_report(y_test, y_pred, zero_division=0))"
   ]
  },
  {
   "cell_type": "code",
   "execution_count": 36,
   "metadata": {
    "colab": {
     "base_uri": "https://localhost:8080/",
     "height": 714
    },
    "id": "tZrIvek3jk5v",
    "outputId": "199a2e73-c96f-4c30-eb50-7ab6fc617f40"
   },
   "outputs": [
    {
     "data": {
      "image/png": "[encoded data removed]",
      "text/plain": [
       "<Figure size 1000x800 with 1 Axes>"
      ]
     },
     "metadata": {},
     "output_type": "display_data"
    }
   ],
   "source": [
    "# 3. Matriz de Confusión (visualización)\n",
    "plt.figure(figsize=(10, 8))\n",
    "# Calcular la matriz de confusión\n",
    "cm = confusion_matrix(y_test, y_pred)\n",
    "sns.heatmap(cm, annot=True, fmt='d', cmap='Blues', cbar=False,\n",
    "            xticklabels=model.classes_, yticklabels=model.classes_)\n",
    "plt.title('Matriz de Confusión')\n",
    "plt.xlabel('Predicción')\n",
    "plt.ylabel('Valor Real')\n",
    "plt.show()"
   ]
  },
  {
   "cell_type": "markdown",
   "metadata": {
    "id": "_Q0uKfdZkAkw"
   },
   "source": [
    "Conclusiones\n",
    "\n",
    "Segun la evaluación del modelo podemos observar lo siguiente:\n",
    "\n",
    "1. El accuracy de prueba es de 31.25%, lo que significa que el modelo predice de forma correcta la cateegoría del premio para aproximadamente un tercio de los casos, por tanto podemos ver que el modelo tiene dificultades para distinguir las diferentes categorias de premios utilizando las características proporcionadas.\n",
    "\n",
    "2. Al observar las métricas por clase, vemos una variación significativa en el rendimiento:\n",
    "     - \"Best Acress\" tiene una precisión, recall y F1-score de 1.00. aunque solo hay una instancia de esta clase en el conjunto de prueba, lo que hace que esta métrica no sea muy representativa.\n",
    "     - \"Best Actor\" tiene un recall relativamente alto de 0.75 pero una baja precisión (0.50).\n",
    "     - Las categorías 'Best Director', 'Best Supporting Actor' y 'Best Supporting Actress' tienen métricas de precisión y recall muy bajas o cero (0.00), lo que sugiere que el modelo no es capaz de identificar correctamente a los ganadores en estas categorías\n",
    "\n",
    "3. La matriz de confusión visualiza como el modelo distribuye las predicciones. Se confirma que existen muchas predicciones incorrectas, sobretodo para categorias con bajo recall."
   ]
  },
  {
   "cell_type": "markdown",
   "metadata": {
    "id": "p8M_Ry8jH05E"
   },
   "source": [
    "# Parte 4: Graficas y metricas"
   ]
  },
  {
   "cell_type": "markdown",
   "metadata": {
    "id": "2HpTi_rZmEso"
   },
   "source": [
    "## Matriz de Confusión"
   ]
  },
  {
   "cell_type": "code",
   "execution_count": 37,
   "metadata": {
    "colab": {
     "base_uri": "https://localhost:8080/",
     "height": 752
    },
    "id": "WgnrcAyHFffU",
    "outputId": "2046bd60-7541-4104-c05a-bf4fb39fd315"
   },
   "outputs": [
    {
     "data": {
      "image/png": "[encoded data removed]",
      "text/plain": [
       "<Figure size 1200x1000 with 2 Axes>"
      ]
     },
     "metadata": {},
     "output_type": "display_data"
    }
   ],
   "source": [
    "plt.figure(figsize=(12, 10))\n",
    "# Calcular la matriz de confusión\n",
    "cm = confusion_matrix(y_test, y_pred)\n",
    "# Crear un DataFrame para la visualización, usando las etiquetas del modelo\n",
    "cm_df = pd.DataFrame(cm, index=model.classes_, columns=model.classes_)\n",
    "\n",
    "sns.heatmap(cm_df, annot=True, fmt='d', cmap='Reds', cbar_kws={'label': 'Conteo de Predicciones'})\n",
    "plt.title('Matriz de Confusión: Predicción de Categoría de Oscar', fontsize=16, color='darkred')\n",
    "plt.xlabel('Categoría Predicha', fontsize=14)\n",
    "plt.ylabel('Categoría Real', fontsize=14)\n",
    "plt.show()"
   ]
  },
  {
   "cell_type": "markdown",
   "metadata": {
    "id": "xJLOadC5mMwX"
   },
   "source": [
    "## F1-Score por clase"
   ]
  },
  {
   "cell_type": "code",
   "execution_count": 39,
   "metadata": {
    "colab": {
     "base_uri": "https://localhost:8080/",
     "height": 504
    },
    "id": "pWWKXpf2FfZq",
    "outputId": "c5128328-2fbe-4d0e-dab7-94ec0442286b"
   },
   "outputs": [
    {
     "name": "stderr",
     "output_type": "stream",
     "text": [
      "/tmp/ipython-input-4274211765.py:9: FutureWarning: \n",
      "\n",
      "Passing `palette` without assigning `hue` is deprecated and will be removed in v0.14.0. Assign the `y` variable to `hue` and set `legend=False` for the same effect.\n",
      "\n",
      "  sns.barplot(x=class_metrics['f1-score'], y=class_metrics.index, palette='viridis')\n"
     ]
    },
    {
     "data": {
      "image/png": "[encoded data removed]",
      "text/plain": [
       "<Figure size 1200x600 with 1 Axes>"
      ]
     },
     "metadata": {},
     "output_type": "display_data"
    }
   ],
   "source": [
    "# Convertir el informe de clasificación en un DataFrame\n",
    "report = classification_report(y_test, y_pred, output_dict=True, zero_division=0)\n",
    "report_df = pd.DataFrame(report).transpose()\n",
    "# Seleccionar solo las clases (excluyendo 'accuracy', 'macro avg', etc.)\n",
    "class_metrics = report_df.iloc[:-3]\n",
    "\n",
    "plt.figure(figsize=(12, 6))\n",
    "# Gráfico de barras horizontales para F1-Score\n",
    "sns.barplot(x=class_metrics['f1-score'], y=class_metrics.index, palette='viridis')\n",
    "plt.title('F1-Score por Categoría de Premio', fontsize=16, color='darkgreen')\n",
    "plt.xlabel('F1-Score', fontsize=14)\n",
    "plt.ylabel('Categoría de Premio', fontsize=14)\n",
    "plt.xlim(0, 1.0)\n",
    "plt.legend(['F1-Score'], loc='lower right')\n",
    "plt.show()"
   ]
  },
  {
   "cell_type": "markdown",
   "metadata": {
    "id": "FUFyi10lmpkA"
   },
   "source": [
    "## Ensamble y ajustes"
   ]
  },
  {
   "cell_type": "markdown",
   "metadata": {
    "id": "YKN6DohCm2ZY"
   },
   "source": [
    "### Ajuste de Hiperparámetros"
   ]
  },
  {
   "cell_type": "code",
   "execution_count": 40,
   "metadata": {
    "colab": {
     "base_uri": "https://localhost:8080/"
    },
    "id": "CGFAV6J3FfTi",
    "outputId": "7ee2cdc9-9b6e-4629-df1f-9d43df66f2c3"
   },
   "outputs": [
    {
     "name": "stdout",
     "output_type": "stream",
     "text": [
      "--- Ejecutando GridSearchCV (Ajuste de Hiperparámetros)... ---\n",
      "Fitting 5 folds for each of 27 candidates, totalling 135 fits\n",
      "\n",
      "--- Resultados del Tuning ---\n",
      "Mejor Puntuación (F1-Macro en CV): 0.4866\n",
      "Mejores Parámetros Encontrados: {'max_depth': 10, 'min_samples_split': 2, 'n_estimators': 50}\n"
     ]
    }
   ],
   "source": [
    "# Definir el rango de hiperparámetros\n",
    "param_grid = {\n",
    "    'n_estimators': [50, 100, 200],\n",
    "    'max_depth': [5, 10, None],\n",
    "    'min_samples_split': [2, 5, 10]\n",
    "}\n",
    "\n",
    "# Inicializar el modelo base con la ponderación de clases\n",
    "rf = RandomForestClassifier(random_state=42, class_weight='balanced')\n",
    "\n",
    "# Inicializar GridSearchCV\n",
    "# Usamos 'f1_macro' como métrica de scoring para optimizar el rendimiento de todas las clases.\n",
    "grid_search = GridSearchCV(estimator=rf,\n",
    "                           param_grid=param_grid,\n",
    "                           scoring='f1_macro',\n",
    "                           cv=5, # 5-Fold Cross-Validation\n",
    "                           n_jobs=-1, # Usar todos los núcleos de CPU\n",
    "                           verbose=1)\n",
    "\n",
    "print(\"--- Ejecutando GridSearchCV (Ajuste de Hiperparámetros)... ---\")\n",
    "grid_search.fit(X_train, y_train)\n",
    "\n",
    "# Obtener el mejor estimador\n",
    "best_rf_model = grid_search.best_estimator_\n",
    "\n",
    "print(\"\\n--- Resultados del Tuning ---\")\n",
    "print(f\"Mejor Puntuación (F1-Macro en CV): {grid_search.best_score_:.4f}\")\n",
    "print(f\"Mejores Parámetros Encontrados: {grid_search.best_params_}\")"
   ]
  },
  {
   "cell_type": "markdown",
   "metadata": {
    "id": "JaBWo5fPnJag"
   },
   "source": [
    "### Evaluación del modelo ajustado"
   ]
  },
  {
   "cell_type": "code",
   "execution_count": 41,
   "metadata": {
    "colab": {
     "base_uri": "https://localhost:8080/"
    },
    "id": "Q289EILJFfNf",
    "outputId": "d5318a92-670d-4deb-c6df-975467cd9598"
   },
   "outputs": [
    {
     "name": "stdout",
     "output_type": "stream",
     "text": [
      "\n",
      "--- Comparación Final de Rendimiento ---\n",
      "Precisión (Accuracy) del Modelo Ajustado: 0.2500\n",
      "F1-Score Macro del Modelo Ajustado: 0.2923\n",
      "Mejora en F1-Score Macro: 0.0700\n",
      "\n",
      "Informe de Clasificación del Modelo Ajustado:\n",
      "                         precision    recall  f1-score   support\n",
      "\n",
      "             Best Actor       0.33      0.75      0.46         4\n",
      "           Best Actress       1.00      1.00      1.00         1\n",
      "          Best Director       0.00      0.00      0.00         5\n",
      "  Best Supporting Actor       0.00      0.00      0.00         3\n",
      "Best Supporting Actress       0.00      0.00      0.00         3\n",
      "\n",
      "               accuracy                           0.25        16\n",
      "              macro avg       0.27      0.35      0.29        16\n",
      "           weighted avg       0.15      0.25      0.18        16\n",
      "\n"
     ]
    }
   ],
   "source": [
    "# Predicciones con el mejor modelo\n",
    "y_pred_tuned = best_rf_model.predict(X_test)\n",
    "\n",
    "# Métricas finales\n",
    "accuracy_tuned = accuracy_score(y_test, y_pred_tuned)\n",
    "f1_macro_tuned = f1_score(y_test, y_pred_tuned, average='macro', zero_division=0)\n",
    "report_tuned = classification_report(y_test, y_pred_tuned, zero_division=0)\n",
    "\n",
    "# Almacenamos el F1-Macro del modelo anterior para la comparación\n",
    "f1_macro_initial = 0.2223\n",
    "\n",
    "print(\"\\n--- Comparación Final de Rendimiento ---\")\n",
    "print(f\"Precisión (Accuracy) del Modelo Ajustado: {accuracy_tuned:.4f}\")\n",
    "print(f\"F1-Score Macro del Modelo Ajustado: {f1_macro_tuned:.4f}\")\n",
    "print(f\"Mejora en F1-Score Macro: {f1_macro_tuned - f1_macro_initial:.4f}\")\n",
    "\n",
    "print(\"\\nInforme de Clasificación del Modelo Ajustado:\")\n",
    "print(report_tuned)"
   ]
  },
  {
   "cell_type": "markdown",
   "metadata": {
    "id": "pP_JVdr2nZXQ"
   },
   "source": [
    "Se observa una leve mejoría, sobretodo con el bajo F1-Score macro, para esto se utiliza la técnica \"SMOTE\" para poder manejar el desbalance de clases antes de volver a entrenar el modelo."
   ]
  },
  {
   "cell_type": "markdown",
   "metadata": {
    "id": "d3LynE4bn91A"
   },
   "source": [
    "## SMOTE (Synthetic Minority Over-sampling Technique)"
   ]
  },
  {
   "cell_type": "code",
   "execution_count": 43,
   "metadata": {
    "colab": {
     "base_uri": "https://localhost:8080/"
    },
    "id": "Qz6rmWIUFfHx",
    "outputId": "b944f610-6033-413b-b432-20871e9ef683"
   },
   "outputs": [
    {
     "name": "stdout",
     "output_type": "stream",
     "text": [
      "--- Distribución de Clases ANTES de SMOTE (Conjunto de Entrenamiento) ---\n",
      "Counter({'Best Director': 17, 'Best Actor': 16, 'Best Supporting Actor': 14, 'Best Supporting Actress': 10, 'Best Actress': 5})\n",
      "\n",
      "--- Distribución de Clases DESPUÉS de SMOTE ---\n",
      "Counter({'Best Supporting Actor': 17, 'Best Actor': 17, 'Best Director': 17, 'Best Supporting Actress': 17, 'Best Actress': 17})\n"
     ]
    }
   ],
   "source": [
    "smote = SMOTE(random_state=42, k_neighbors=1)\n",
    "# Usamos k_neighbors=1 debido al pequeño tamaño de algunas clases minoritarias\n",
    "print(\"--- Distribución de Clases ANTES de SMOTE (Conjunto de Entrenamiento) ---\")\n",
    "print(Counter(y_train))\n",
    "\n",
    "# Se aplica solo al conjunto de entrenamiento\n",
    "# X_train_smote y y_train_smote serán nuestros nuevos conjuntos balanceados\n",
    "X_train_smote, y_train_smote = smote.fit_resample(X_train, y_train)\n",
    "\n",
    "print(\"\\n--- Distribución de Clases DESPUÉS de SMOTE ---\")\n",
    "print(Counter(y_train_smote))"
   ]
  },
  {
   "cell_type": "markdown",
   "metadata": {
    "id": "HQpjs8GKoMKY"
   },
   "source": [
    "## Reentrnando el modelo"
   ]
  },
  {
   "cell_type": "code",
   "execution_count": 45,
   "metadata": {
    "id": "xLyqkXbZFfCO"
   },
   "outputs": [],
   "source": [
    "best_params = {'max_depth': 5, 'min_samples_split': 2, 'n_estimators': 100} # Ejemplo de parámetros ajustados\n",
    "\n",
    "# Creamos una nueva instancia del modelo (sin class_weight='balanced')\n",
    "rf_smote = RandomForestClassifier(random_state=42, **best_params)\n",
    "\n",
    "# Se entrena con los datos balanceados\n",
    "rf_smote.fit(X_train_smote, y_train_smote)\n",
    "\n",
    "# Predicción en el conjunto de prueba (SIN SMOTE)\n",
    "# Importante: SMOTE solo se aplica al entrenamiento para evitar fugas de datos\n",
    "y_pred_smote = rf_smote.predict(X_test)"
   ]
  },
  {
   "cell_type": "markdown",
   "metadata": {
    "id": "9KINNjnXoZhP"
   },
   "source": [
    "## Evaluación"
   ]
  },
  {
   "cell_type": "code",
   "execution_count": 46,
   "metadata": {
    "colab": {
     "base_uri": "https://localhost:8080/"
    },
    "id": "OINLXwKXFe9G",
    "outputId": "3cd24ce3-cdb1-42ee-9459-b17e5eefc23d"
   },
   "outputs": [
    {
     "name": "stdout",
     "output_type": "stream",
     "text": [
      "\n",
      "--- Comparación Final de Rendimiento ---\n",
      "Precisión (Accuracy) con SMOTE: 0.2500\n",
      "F1-Score Macro con SMOTE: 0.1733\n"
     ]
    }
   ],
   "source": [
    "accuracy_smote = accuracy_score(y_test, y_pred_smote)\n",
    "f1_macro_smote = f1_score(y_test, y_pred_smote, average='macro', zero_division=0)\n",
    "\n",
    "print(\"\\n--- Comparación Final de Rendimiento ---\")\n",
    "print(f\"Precisión (Accuracy) con SMOTE: {accuracy_smote:.4f}\")\n",
    "print(f\"F1-Score Macro con SMOTE: {f1_macro_smote:.4f}\")"
   ]
  },
  {
   "cell_type": "code",
   "execution_count": 47,
   "metadata": {
    "colab": {
     "base_uri": "https://localhost:8080/"
    },
    "id": "yLsiJOqrD7XB",
    "outputId": "95472092-45b2-44cd-d90e-49bfc84cee6b"
   },
   "outputs": [
    {
     "name": "stdout",
     "output_type": "stream",
     "text": [
      "\n",
      "Mejora en F1-Score Macro (vs. Inicial): -0.0490\n",
      "\n",
      "Informe de Clasificación con SMOTE:\n",
      "                         precision    recall  f1-score   support\n",
      "\n",
      "             Best Actor       0.60      0.75      0.67         4\n",
      "           Best Actress       0.11      1.00      0.20         1\n",
      "          Best Director       0.00      0.00      0.00         5\n",
      "  Best Supporting Actor       0.00      0.00      0.00         3\n",
      "Best Supporting Actress       0.00      0.00      0.00         3\n",
      "\n",
      "               accuracy                           0.25        16\n",
      "              macro avg       0.14      0.35      0.17        16\n",
      "           weighted avg       0.16      0.25      0.18        16\n",
      "\n"
     ]
    }
   ],
   "source": [
    "print(f\"\\nMejora en F1-Score Macro (vs. Inicial): {f1_macro_smote - 0.2223:.4f}\")\n",
    "\n",
    "print(\"\\nInforme de Clasificación con SMOTE:\")\n",
    "print(classification_report(y_test, y_pred_smote, zero_division=0))"
   ]
  },
  {
   "cell_type": "code",
   "execution_count": 48,
   "metadata": {
    "colab": {
     "base_uri": "https://localhost:8080/",
     "height": 660
    },
    "id": "TpI4v92ED7RF",
    "outputId": "f9b6050e-e1fe-4de4-c613-198552cdd98d"
   },
   "outputs": [
    {
     "name": "stderr",
     "output_type": "stream",
     "text": [
      "/tmp/ipython-input-3927764976.py:6: FutureWarning: \n",
      "\n",
      "Passing `palette` without assigning `hue` is deprecated and will be removed in v0.14.0. Assign the `y` variable to `hue` and set `legend=False` for the same effect.\n",
      "\n",
      "  sns.barplot(x=class_metrics_smote['f1-score'], y=class_metrics_smote.index, palette='plasma')\n"
     ]
    },
    {
     "data": {
      "image/png": "[encoded data removed]",
      "text/plain": [
       "<Figure size 1200x600 with 1 Axes>"
      ]
     },
     "metadata": {},
     "output_type": "display_data"
    }
   ],
   "source": [
    "report_smote = classification_report(y_test, y_pred_smote, output_dict=True, zero_division=0)\n",
    "report_smote_df = pd.DataFrame(report_smote).transpose()\n",
    "class_metrics_smote = report_smote_df.iloc[:-3]\n",
    "\n",
    "plt.figure(figsize=(12, 6))\n",
    "sns.barplot(x=class_metrics_smote['f1-score'], y=class_metrics_smote.index, palette='plasma')\n",
    "plt.title('F1-Score por Categoría de Premio (Después de SMOTE)', fontsize=16, color='darkorange')\n",
    "plt.xlabel('F1-Score', fontsize=14)\n",
    "plt.ylabel('Categoría de Premio', fontsize=14)\n",
    "plt.xlim(0, 1.0)\n",
    "plt.legend(['F1-Score (SMOTE)'], loc='lower right')\n",
    "plt.show()"
   ]
  },
  {
   "cell_type": "markdown",
   "metadata": {
    "id": "ldBNojnmowiZ"
   },
   "source": [
    "Conclusiones:\n",
    "1. Se observa un aumento en el F1-Score Macro, esto indica que el modelo es mucho mas capaz de identificar correctamente las clases que antes eran invisibles.\n",
    "2. Es posible que el accuracy haya disminuido levemente, esto es algo aceptable ya que el modelo ahora sacrifica un poco de precision en la clase mayoritaria a cambio de poder tener una mejor generalización y equidad de predicción en todas las clases."
   ]
  },
  {
   "cell_type": "code",
   "execution_count": null,
   "metadata": {
    "id": "Cue6DSizD7K2"
   },
   "outputs": [],
   "source": []
  },
  {
   "cell_type": "code",
   "execution_count": null,
   "metadata": {
    "id": "NIFbZe9LD7EW"
   },
   "outputs": [],
   "source": []
  },
  {
   "cell_type": "code",
   "execution_count": null,
   "metadata": {
    "id": "ntNJT7WxD6-h"
   },
   "outputs": [],
   "source": []
  },
  {
   "cell_type": "code",
   "execution_count": null,
   "metadata": {
    "id": "7XzHRDQMD65A"
   },
   "outputs": [],
   "source": []
  },
  {
   "cell_type": "code",
   "execution_count": null,
   "metadata": {
    "id": "dRTbGXI0D6zt"
   },
   "outputs": [],
   "source": []
  },
  {
   "cell_type": "code",
   "execution_count": null,
   "metadata": {
    "id": "ZaIiqzVhD6um"
   },
   "outputs": [],
   "source": []
  },
  {
   "cell_type": "code",
   "execution_count": null,
   "metadata": {
    "id": "hKMLOA58D6ok"
   },
   "outputs": [],
   "source": []
  },
  {
   "cell_type": "code",
   "execution_count": null,
   "metadata": {
    "id": "YszQiiF0D6jL"
   },
   "outputs": [],
   "source": []
  },
  {
   "cell_type": "code",
   "execution_count": null,
   "metadata": {
    "id": "SaKoCdmuD6cq"
   },
   "outputs": [],
   "source": []
  },
  {
   "cell_type": "code",
   "execution_count": null,
   "metadata": {
    "id": "atcakVeRD6Wa"
   },
   "outputs": [],
   "source": []
  },
  {
   "cell_type": "code",
   "execution_count": null,
   "metadata": {
    "id": "SFtbtl-fD6RG"
   },
   "outputs": [],
   "source": []
  },
  {
   "cell_type": "code",
   "execution_count": null,
   "metadata": {
    "id": "sYNHLfvBD6K8"
   },
   "outputs": [],
   "source": []
  },
  {
   "cell_type": "code",
   "execution_count": null,
   "metadata": {
    "id": "NeP4fZPYD6F2"
   },
   "outputs": [],
   "source": []
  }
 ],
 "metadata": {
  "accelerator": "GPU",
  "colab": {
   "gpuType": "T4",
   "provenance": []
  },
  "kernelspec": {
   "display_name": "Python 3 (ipykernel)",
   "language": "python",
   "name": "python3"
  },
  "language_info": {
   "codemirror_mode": {
    "name": "ipython",
    "version": 3
   },
   "file_extension": ".py",
   "mimetype": "text/x-python",
   "name": "python",
   "nbconvert_exporter": "python",
   "pygments_lexer": "ipython3",
   "version": "3.13.5"
  }
 },
 "nbformat": 4,
 "nbformat_minor": 4
}
